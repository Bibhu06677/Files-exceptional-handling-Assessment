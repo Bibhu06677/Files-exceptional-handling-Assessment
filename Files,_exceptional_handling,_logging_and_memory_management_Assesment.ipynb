{
  "nbformat": 4,
  "nbformat_minor": 0,
  "metadata": {
    "colab": {
      "provenance": []
    },
    "kernelspec": {
      "name": "python3",
      "display_name": "Python 3"
    },
    "language_info": {
      "name": "python"
    }
  },
  "cells": [
    {
      "cell_type": "markdown",
      "source": [
        "**1-What is the difference between interpreted and compiled languages?**\n",
        "\n",
        "In programming, the terms \"interpreted\" and \"compiled\" refer to how a programming language's code is executed by the computer. In Python, it’s a bit of a hybrid, but let's break it down:\n",
        "\n",
        "Compiled Languages:\n",
        "Definition: In compiled languages, the source code is translated into machine code (or binary code) by a compiler before it is executed. The resulting machine code is typically platform-specific.\n",
        "\n",
        "Execution: Once compiled, the machine code is executed directly by the computer's hardware.\n",
        "\n",
        "Example: C, C++, Rust.\n",
        "\n",
        "Interpreted Languages:\n",
        "\n",
        "Definition: In interpreted languages, the source code is translated and executed line by line by an interpreter at runtime, rather than being compiled into machine code in advance.\n",
        "\n",
        "Execution: The interpreter processes the code as it runs, which means it often runs slower than compiled code since translation happens on the fly.\n",
        "\n",
        "Example: Python, JavaScript, Ruby.\n",
        "\n",
        "Python: Interpreted, but...\n",
        "Bytecode Compilation: Technically, Python is a hybrid. When you run a Python program, it first compiles the source code into bytecode (a lower-level, platform-independent representation of the code). This bytecode is then interpreted by the Python virtual machine (PVM) at runtime.\n",
        "\n",
        "Python's Process:\n",
        "\n",
        "Source Code (.py) is written by the programmer.\n",
        "\n",
        "It is compiled into bytecode (.pyc).\n",
        "\n",
        "The bytecode is then interpreted by the Python virtual machine (PVM).\n",
        "\n",
        "In essence, Python behaves like an interpreted language for most users, but under the hood, there's a compilation step involved before interpretation.\n",
        "\n",
        "Key Differences:\n",
        "Compiled Languages: Code is fully translated into machine code ahead of time (usually faster execution).\n",
        "\n",
        "Interpreted Languages: Code is translated and executed line-by-line during runtime (often slower execution but more flexibility during development)."
      ],
      "metadata": {
        "id": "s4bQYWG3EzRy"
      }
    },
    {
      "cell_type": "markdown",
      "source": [
        "**2- What is exception handling in Python?**\n",
        "\n",
        "Exception handling in Python is a mechanism that allows you to manage and respond to runtime errors (exceptions) in a structured way. This helps prevent the program from crashing unexpectedly and allows you to handle errors gracefully.\n",
        "\n",
        "What is an Exception?\n",
        "\n",
        "An exception is an event that disrupts the normal flow of the program's execution. It typically occurs when there’s an error (e.g., division by zero, accessing a non-existent file, etc.). When an exception occurs, the Python interpreter stops executing the current block of code and jumps to the nearest exception handler, if one is available.\n",
        "\n",
        "The Syntax of Exception Handling in Python:\n",
        "\n",
        "Python provides the try, except, else, and finally blocks for exception handling."
      ],
      "metadata": {
        "id": "iEdSdVW9FRTY"
      }
    },
    {
      "cell_type": "code",
      "execution_count": null,
      "metadata": {
        "id": "jtAMdWMKEgTg"
      },
      "outputs": [],
      "source": []
    },
    {
      "cell_type": "markdown",
      "source": [
        "**3- What is the purpose of the finally block in exception handling?**\n",
        "\n",
        "The finally block in Python's exception handling is used to define code that should always execute, regardless of whether an exception occurred or not. The purpose of the finally block is to ensure that certain actions are always performed, such as cleanup tasks, resource deallocation, or final logging.\n",
        "\n",
        "Key Characteristics of the finally Block:\n",
        "\n",
        "Always Executed: The finally block will run no matter what happens in the try and except blocks. Even if an exception is raised and not caught, the finally block will still execute. This makes it useful for tasks that must be completed, such as closing files or releasing system resources.\n",
        "\n",
        "Guaranteed Execution: Whether or not an exception occurs, the code in the finally block will always run, even if the program encounters a return statement in the try or except blocks.\n",
        "\n",
        "Why Use finally?\n",
        "\n",
        "Cleanup: It ensures that resources like file handles or network connections are properly cleaned up.\n",
        "\n",
        "Reliability: It guarantees that important finalization steps are always performed, even if the program encounters an error or exception.\n",
        "\n",
        "Avoiding Resource Leaks: Without finally, it would be easy to forget to close resources, leading to memory leaks or file locks."
      ],
      "metadata": {
        "id": "Rr-DAMQNFwH0"
      }
    },
    {
      "cell_type": "markdown",
      "source": [],
      "metadata": {
        "id": "-QZsCZUBGpOi"
      }
    },
    {
      "cell_type": "markdown",
      "source": [
        "**4- What is logging in Python?**\n",
        "\n",
        "Logging in Python refers to the process of recording events that happen during a program's execution. These events can include errors, warnings, or general information that helps developers understand what the program is doing, diagnose problems, or audit behavior.\n",
        "\n",
        "Python provides a built-in logging module for this purpose.\n",
        "\n",
        "Key Concepts of logging in Python:\n",
        "\n",
        "a-Log Levels: Indicate the severity of the event.\n",
        "\n",
        "DEBUG: Detailed information, useful during development.\n",
        "\n",
        "INFO: General information about program execution.\n",
        "\n",
        "WARNING: An indication that something unexpected happened.\n",
        "\n",
        "ERROR: A more serious problem, the program may not work correctly.\n",
        "\n",
        "CRITICAL: A very serious error, program may be unable to continue.\n",
        "\n",
        "b-Basic Usage:"
      ],
      "metadata": {
        "id": "zT_pZu-E8anH"
      }
    },
    {
      "cell_type": "code",
      "source": [
        "import logging\n",
        "\n",
        "logging.basicConfig(level=logging.INFO)\n",
        "logging.debug(\"This is a debug message\")\n",
        "logging.info(\"This is an info message\")\n",
        "logging.warning(\"This is a warning message\")\n",
        "logging.error(\"This is an error message\")\n",
        "logging.critical(\"This is a critical message\")\n"
      ],
      "metadata": {
        "id": "89ZE6ty-9F_f"
      },
      "execution_count": null,
      "outputs": []
    },
    {
      "cell_type": "markdown",
      "source": [
        "c-Advanced Features:\n",
        "\n",
        "Custom formatting\n",
        "\n",
        "Logging to files instead of the console\n",
        "\n",
        "Log rotation (with logging.handlers)\n",
        "\n",
        "Multiple loggers, handlers, and formatters for complex apps."
      ],
      "metadata": {
        "id": "z0fofBO49Kzn"
      }
    },
    {
      "cell_type": "markdown",
      "source": [
        "**5- What is the significance of the __del__ method in Python?**\n",
        "\n",
        "The __del__ method in Python is a destructor—a special method that is called when an object is about to be destroyed (i.e., when it is about to be garbage collected).\n",
        "\n",
        "Significance of __del__:\n",
        "Resource Cleanup:\n",
        "\n",
        "It can be used to release external resources like files, network connections, or database connections when the object is no longer needed.\n",
        "\n",
        "Automatic Invocation:\n",
        "\n",
        "Called automatically by the garbage collector when there are no more references to the object.\n",
        "\n",
        "Not Reliable for Critical Cleanup:\n",
        "\n",
        "Python does not guarantee exactly when __del__ will be called, especially in the presence of circular references or during interpreter shutdown.\n",
        "\n",
        "It's better to use context managers (with statement) for reliable resource cleanup.\n",
        "\n",
        "May Cause Issues:\n",
        "\n",
        "If __del__ raises an exception, it is ignored, but it can still cause problems during garbage collection.\n",
        "\n",
        "Objects with __del__ are harder to collect if involved in circular references."
      ],
      "metadata": {
        "id": "aHclyhzN-cPh"
      }
    },
    {
      "cell_type": "markdown",
      "source": [
        "**6- What is the difference between import and from ... import in Python?**\n",
        "\n",
        "n Python, both import and from ... import are used to include modules and their contents into your program, but they differ in how you access those contents:\n",
        "\n",
        "1. import module\n",
        "Imports the entire module.\n",
        "\n",
        "You access its contents using dot notation.\n",
        "\n",
        "2. from module import name\n",
        "Imports specific items (like functions, classes, or variables) from a module.\n",
        "\n",
        "You access them directly, without prefixing the module name.\n",
        "\n",
        "Key Differences:\n",
        "\n",
        "| Feature               | `import module`       | `from module import name` |\n",
        "| --------------------- | --------------------- | ------------------------- |\n",
        "| Namespace usage       | Uses module name      | Direct access             |\n",
        "| Clarity               | More explicit         | More concise              |\n",
        "| Risk of name conflict | Lower (due to prefix) | Higher (if names overlap) |\n",
        "| Memory usage          | Loads whole module    | Loads only what's needed  |\n",
        "\n",
        "\n"
      ],
      "metadata": {
        "id": "qVgu5yBd-0cD"
      }
    },
    {
      "cell_type": "markdown",
      "source": [
        "**7- How can you handle multiple exceptions in Python?**\n",
        "\n",
        "In Python, you can handle multiple exceptions using a single try block with:\n",
        "\n",
        "1. Multiple except blocks:\n",
        "You can catch different exceptions separately and handle them differently.\n"
      ],
      "metadata": {
        "id": "pTIu6exL_P0n"
      }
    },
    {
      "cell_type": "code",
      "source": [
        "try:\n",
        "    x = int(input(\"Enter a number: \"))\n",
        "    y = 10 / x\n",
        "except ValueError:\n",
        "    print(\"That's not a valid integer.\")\n",
        "except ZeroDivisionError:\n",
        "    print(\"You can't divide by zero.\")\n"
      ],
      "metadata": {
        "colab": {
          "base_uri": "https://localhost:8080/"
        },
        "id": "ljtzSR6d_xCD",
        "outputId": "628da709-fd7c-4069-eb3d-e59d12678e13"
      },
      "execution_count": 6,
      "outputs": [
        {
          "name": "stdout",
          "output_type": "stream",
          "text": [
            "Enter a number: 6\n"
          ]
        }
      ]
    },
    {
      "cell_type": "markdown",
      "source": [
        "2. One except block with a tuple of exceptions:\n",
        "\n",
        "If you want to handle multiple exceptions the same way.\n"
      ],
      "metadata": {
        "id": "cYBjkndMAI-n"
      }
    },
    {
      "cell_type": "code",
      "source": [
        "try:\n",
        "    x = int(input(\"Enter a number: \"))\n",
        "    y = 10 / x\n",
        "except (ValueError, ZeroDivisionError) as e:\n",
        "    print(\"An error occurred:\", e)\n"
      ],
      "metadata": {
        "colab": {
          "base_uri": "https://localhost:8080/"
        },
        "id": "CgDWrhEtA0uH",
        "outputId": "41be3b4b-6193-4c48-b23f-02906c398694"
      },
      "execution_count": 7,
      "outputs": [
        {
          "name": "stdout",
          "output_type": "stream",
          "text": [
            "Enter a number: 4\n"
          ]
        }
      ]
    },
    {
      "cell_type": "markdown",
      "source": [
        "3. Generic except (not recommended unless necessary):\n",
        "Catches all exceptions. Use it with caution.\n",
        "\n"
      ],
      "metadata": {
        "id": "tr1Tain_A8Uq"
      }
    },
    {
      "cell_type": "code",
      "source": [
        "try:\n",
        "    # risky code\n",
        "except Exception as e:\n",
        "    print(\"Something went wrong:\", e)\n",
        "\n"
      ],
      "metadata": {
        "id": "-1sOSMUQBAF7"
      },
      "execution_count": 8,
      "outputs": []
    },
    {
      "cell_type": "markdown",
      "source": [
        "**8- What is the purpose of the with statement when handling files in Python?**\n",
        "\n",
        "The with statement in Python is used to manage resources like files in a clean and efficient way. When handling files, its main purpose is to ensure the file is properly closed, even if an error occurs during file operations.\n",
        "\n",
        "Why Use with for Files?\n",
        "\n",
        "When you open a file using open(), you should close it after you're done. If you forget to call file.close(), it can lead to resource leaks (especially with many open files).\n",
        "\n",
        "Benefits:\n",
        "\n",
        "Ensures the file is closed automatically.\n",
        "\n",
        "Makes code more readable and concise.\n",
        "\n",
        "Handles exceptions more gracefully."
      ],
      "metadata": {
        "id": "SzcIrEiiBLqv"
      }
    },
    {
      "cell_type": "markdown",
      "source": [
        "**9- What is the difference between multithreading and multiprocessing?**\n",
        "\n",
        "The main difference between multithreading and multiprocessing in Python lies in how they execute tasks and utilize system resources—particularly CPUs and memory.\n",
        "\n",
        "Multithreading:\n",
        "\n",
        "Uses multiple threads within a single process.\n",
        "\n",
        "Threads share memory space, making data sharing easier.\n",
        "\n",
        "Best for I/O-bound tasks (e.g., file I/O, network operations).\n",
        "\n",
        "Limited by the Global Interpreter Lock (GIL) in CPython, so threads don't run Python code in parallel on multiple cores.\n",
        "\n",
        "Multiprocessing:\n",
        "\n",
        "Uses multiple processes, each with its own memory space.\n",
        "\n",
        "Can take full advantage of multiple CPU cores.\n",
        "\n",
        "Best for CPU-bound tasks (e.g., data crunching, image processing).\n",
        "\n",
        "More memory usage and communication overhead compared to threads.\n",
        "\n",
        "| Feature     | Multithreading                   | Multiprocessing                    |\n",
        "| ----------- | -------------------------------- | ---------------------------------- |\n",
        "| Parallelism | Limited by GIL (CPython)         | True parallelism on multiple cores |\n",
        "| Memory      | Shared                           | Separate                           |\n",
        "| Best for    | I/O-bound tasks                  | CPU-bound tasks                    |\n",
        "| Speed       | Faster switching, lower overhead | More powerful but more overhead    |\n",
        "\n",
        "\n"
      ],
      "metadata": {
        "id": "f4oTrdTNBgn3"
      }
    },
    {
      "cell_type": "markdown",
      "source": [
        "**10- What are the advantages of using logging in a program?**\n",
        "\n",
        "Using logging in a Python program has several key advantages over simply using print() statements, especially for larger or production-grade applications.\n",
        "\n",
        "Advantages of Using Logging:\n",
        "\n",
        "*Severity Levels:*\n",
        "\n",
        "Logging supports different levels of importance: DEBUG, INFO, WARNING, ERROR, and CRITICAL.\n",
        "\n",
        "This lets you filter messages based on urgency.\n",
        "\n",
        "*Output Flexibility:*\n",
        "\n",
        "You can send logs to various outputs: console, files, network sockets, or even external logging systems.\n",
        "\n",
        "Example: write errors to a file while still showing info in the console.\n",
        "\n",
        "*Automatic Timestamps and Context:*\n",
        "\n",
        "You can include timestamps, module names, line numbers, etc., for better traceability.\n",
        "\n",
        "Easier Debugging and Maintenance:\n",
        "\n",
        "Logs help track the flow of execution and identify where things went wrong.\n",
        "\n",
        "Especially useful for diagnosing issues in production.\n",
        "\n",
        "Configurable:\n",
        "\n",
        "You can change the logging behavior without modifying the code (e.g., using a config file).\n",
        "\n",
        "Supports rotating logs, log formatting, and hierarchical loggers.\n",
        "\n",
        "Thread-safe and Multiprocess-safe:\n",
        "\n",
        "The logging module is safe to use with multi-threaded or multi-process applications.\n",
        "\n",
        "Disables or Filters Output Easily:\n",
        "\n",
        "You can adjust the logging level to silence debug messages or show only warnings/errors without removing code."
      ],
      "metadata": {
        "id": "5ZwL-k_QFi0S"
      }
    },
    {
      "cell_type": "markdown",
      "source": [
        "**11- What is memory management in Python?**\n",
        "\n",
        "Memory management in Python refers to how the Python interpreter allocates, uses, and releases memory during the execution of a program. Python handles memory management automatically, but understanding its mechanisms can help you write more efficient and error-free code.\n",
        "\n",
        "Automatic Memory Allocation:\n",
        "\n",
        "Python automatically allocates memory for objects when they are created.\n",
        "\n",
        "Developers do not need to manually allocate memory like in C or C++.\n",
        "\n",
        "Garbage Collection (GC):\n",
        "\n",
        "Python uses a built-in garbage collector to reclaim memory from objects that are no longer in use.\n",
        "\n",
        "It primarily uses reference counting and also a cyclic garbage collector to handle reference cycles.\n",
        "\n",
        "Reference Counting:\n",
        "\n",
        "Every object has a reference count—the number of references pointing to it.\n",
        "\n",
        "When the reference count drops to zero, the object is deallocated.\n",
        "\n",
        "Memory Pools (PyMalloc):\n",
        "\n",
        "Python uses a system called PyMalloc for managing small memory blocks more efficiently.\n",
        "\n",
        "This is an internal optimization to reduce fragmentation and increase performance.\n",
        "\n",
        "Dynamic Typing:\n",
        "\n",
        "Python variables are dynamically typed, and objects can be reassigned at runtime, which can increase memory churn if not managed carefully.\n",
        "\n",
        "Memory Leaks:\n",
        "\n",
        "Though Python handles memory automatically, leaks can still occur (e.g., in long-running apps with lingering references or circular references not collected).\n",
        "\n",
        "\n"
      ],
      "metadata": {
        "id": "qHkGyh01GN9x"
      }
    },
    {
      "cell_type": "markdown",
      "source": [
        "**12- What are the basic steps involved in exception handling in Python?**\n",
        "\n",
        "In Python, exception handling allows your program to respond gracefully to errors instead of crashing. The basic steps involve using the try, except, else, and finally blocks.\n",
        "\n",
        "Basic Steps of Exception Handling in Python:\n",
        "\n",
        "try block:\n",
        "\n",
        "Put the code that might raise an exception here.\n",
        "\n",
        "If an exception occurs, Python stops executing the try block and jumps to the except block.\n",
        "\n",
        "except block:\n",
        "\n",
        "This block catches and handles the exception.\n",
        "\n",
        "You can catch specific exceptions or multiple exceptions.\n",
        "\n",
        "(Optional) else block:\n",
        "\n",
        "Runs only if no exceptions occurred in the try block.\n",
        "\n",
        "Useful for code that should run only if the try was successful.\n",
        "\n",
        "(Optional) finally block:\n",
        "\n",
        "Runs no matter what—whether an exception occurred or not.\n",
        "\n",
        "Use it for cleanup actions like closing files or releasing resources"
      ],
      "metadata": {
        "id": "_eiYIwEjG0XQ"
      }
    },
    {
      "cell_type": "markdown",
      "source": [
        "**13- Why is memory management important in Python?**\n",
        "\n",
        "Memory management is important in Python because it ensures that your program runs efficiently, avoids crashes, and doesn't waste system resources. Although Python handles memory automatically, understanding and managing it wisely leads to better performance and more reliable code.\n",
        "\n",
        "Why Memory Management important in Python:\n",
        "\n",
        "\n",
        "Prevents Memory Leaks\n",
        "\n",
        "If objects are unintentionally kept alive (e.g., through circular references or lingering variables), memory usage can grow indefinitely.\n",
        "\n",
        "This is especially dangerous in long-running applications like web servers or data processing pipelines.\n",
        "\n",
        "Improves Performance\n",
        "\n",
        "Efficient memory use reduces the need for frequent garbage collection and helps your program run faster.\n",
        "\n",
        "Handles Large Data Gracefully\n",
        "\n",
        "Memory optimization is crucial when dealing with large datasets, images, or files to avoid MemoryError or slowdowns.\n",
        "\n",
        "Reduces Fragmentation and Overhead\n",
        "\n",
        "Python uses internal memory pooling (like PyMalloc) to manage small objects, but inefficient use of objects can still lead to fragmentation or bloat.\n",
        "\n",
        "Supports Concurrency\n",
        "\n",
        "In multi-threaded or multi-process programs, poor memory handling can lead to race conditions, deadlocks, or excess memory usage.\n",
        "\n",
        "Helps Debugging\n",
        "\n",
        "Understanding memory usage helps track down hard-to-find bugs, especially in large or complex applications.\n",
        "\n"
      ],
      "metadata": {
        "id": "bIfMTibSHWRH"
      }
    },
    {
      "cell_type": "markdown",
      "source": [
        "**14- What is the role of try and except in exception handling?**\n",
        "\n",
        "In Python, try and except are key components of exception handling. They allow you to catch and handle errors in a controlled way, preventing your program from crashing unexpectedly.\n",
        "\n",
        "Role of try and except:\n",
        "\n",
        "try block:\n",
        "\n",
        "The try block contains the code that might raise an exception (an error).\n",
        "\n",
        "It allows you to attempt executing potentially problematic code without immediately stopping the program\n",
        "\n",
        "except block:\n",
        "\n",
        "The except block is used to catch and handle exceptions.\n",
        "\n",
        "When an error occurs in the try block, the program will jump to the appropriate except block that matches the type of exception.\n",
        "\n",
        "This prevents the program from crashing and allows you to handle the error gracefully (e.g., by logging the error, providing user-friendly messages, or trying an alternative solution)."
      ],
      "metadata": {
        "id": "UUdZewkTI6Zf"
      }
    },
    {
      "cell_type": "markdown",
      "source": [
        "**15- How does Python's garbage collection system work?**\n",
        "\n",
        "Python’s garbage collection (GC) system is responsible for automatically managing memory by reclaiming memory occupied by objects that are no longer in use. This ensures efficient memory usage and prevents memory leaks in Python programs.\n",
        "\n",
        "The key components of Python's garbage collection system are reference counting and cyclic garbage collection. Let's break down how they work:\n",
        "\n",
        "1. Reference Counting:\n",
        "\n",
        "Reference counting is the primary mechanism Python uses to keep track of memory usage. Each object in Python has an associated reference count, which tracks the number of references pointing to that object.\n",
        "\n",
        "When an object is created, its reference count is initialized to 1.\n",
        "\n",
        "When a new reference to the object is created, the reference count is incremented.\n",
        "\n",
        "When a reference goes out of scope (or is deleted), the reference count is decremented.\n",
        "\n",
        "Once the reference count drops to zero, meaning no references to the object remain, Python will automatically delete the object and free up its memory.\n",
        "\n",
        "2. Cyclic Garbage Collection:\n",
        "\n",
        "Cyclic garbage collection deals with reference cycles, where objects reference each other, creating a cycle that would never reach a reference count of zero, even if they are no longer used. These cycles can prevent objects from being freed, leading to memory leaks.\n",
        "\n",
        "How Cyclic GC Works:\n",
        "\n",
        "Python’s garbage collector runs periodically to identify objects involved in reference cycles.\n",
        "\n",
        "It looks for objects that are only referenced by each other and not by anything else in the program.\n",
        "\n",
        "When such cycles are detected, Python automatically breaks them and frees the memory.\n",
        "\n",
        "3. Garbage Collector: The gc Module:\n",
        "\n",
        "Python provides a gc module that gives you control over the garbage collection process. You can:\n",
        "\n",
        "Manually trigger garbage collection using gc.collect().\n",
        "\n",
        "Disable automatic garbage collection.\n",
        "\n",
        "Inspect objects that are being tracked by the garbage collector.\n",
        "\n",
        "4. Generational Garbage Collection:\n",
        "\n",
        "Python's garbage collector is generational, meaning it uses three generations (young, middle-aged, and old) to manage objects based on their age (how long they’ve been around). This is designed to optimize garbage collection, as most objects are short-lived.\n",
        "\n",
        "Generation 0: Newly created objects (most objects die young).\n",
        "\n",
        "Generation 1: Objects that survived the first garbage collection.\n",
        "\n",
        "Generation 2: Older objects that have survived multiple garbage collection cycles.\n",
        "\n",
        "Each generation is collected less frequently than the previous one, as it’s less likely that objects in older generations are garbage.\n",
        "\n"
      ],
      "metadata": {
        "id": "y1YhX152JQeM"
      }
    },
    {
      "cell_type": "markdown",
      "source": [
        "**16- What is the purpose of the else block in exception handling?**\n",
        "\n",
        "In Python's exception handling system, the else block plays an important role by providing a place to execute code only if no exceptions were raised in the try block. It’s used for code that should run when the try block succeeds without errors.\n",
        "\n",
        "Purpose of the else Block:\n",
        "\n",
        "Runs if No Exception Occurs:\n",
        "\n",
        "The else block is executed only if no exceptions were raised in the try block.\n",
        "\n",
        "This ensures that the else block is only executed when the code in the try block has completed successfully.\n",
        "\n",
        "Separation of Error Handling and Success Logic:\n",
        "\n",
        "By placing code that depends on the success of the try block in the else block, you keep your error handling logic (except) and success logic (else) clean and separate.\n",
        "\n",
        "This improves readability and maintainability of your code.\n",
        "\n",
        "Ensures Clean Execution:\n",
        "\n",
        "It allows you to execute logic that should run after a successful try block without mixing it with error handling code in the except block.\n",
        "\n"
      ],
      "metadata": {
        "id": "NxypPLh8KW_p"
      }
    },
    {
      "cell_type": "markdown",
      "source": [
        "**17- What are the common logging levels in Python?**\n",
        "\n",
        "Python’s logging module provides five standard logging levels, which indicate the severity or importance of events being logged. These levels help filter log messages and direct appropriate information to developers or system administrators.\n",
        "\n",
        "Common Logging Levels in Python (from lowest to highest severity):\n",
        "\n",
        "| Level Name | Numeric Value | Description                                                                                                        |\n",
        "| ---------- | ------------- | ------------------------------------------------------------------------------------------------------------------ |\n",
        "| `DEBUG`    | 10            | Detailed information, typically of interest only when diagnosing problems.                                         |\n",
        "| `INFO`     | 20            | Confirmation that things are working as expected.                                                                  |\n",
        "| `WARNING`  | 30            | An indication that something unexpected happened, or indicative of some problem, but the program is still running. |\n",
        "| `ERROR`    | 40            | A more serious problem; the program has failed to perform some function.                                           |\n",
        "| `CRITICAL` | 50            | A very serious error; the program may not be able to continue running.                                             |\n"
      ],
      "metadata": {
        "id": "NdVbmLmtKpBU"
      }
    },
    {
      "cell_type": "markdown",
      "source": [
        "**18- What is the difference between os.fork() and multiprocessing in Python?**\n",
        "\n",
        "The difference between os.fork() and the multiprocessing module in Python lies in abstraction level, portability, and usability. Both are used to create new processes, but they are suited for different use cases.\n",
        "\n",
        "Key Differences Between os.fork() and multiprocessing:\n",
        "\n",
        "| Feature                               | `os.fork()`                                          | `multiprocessing`                         |\n",
        "| ------------------------------------- | ---------------------------------------------------- | ----------------------------------------- |\n",
        "| **Platform support**                  | Unix/Linux only                                      | Cross-platform (Windows, Linux, macOS)    |\n",
        "| **Abstraction level**                 | Low-level system call                                | High-level API                            |\n",
        "| **Ease of use**                       | More manual (needs `exec`, `pipe`, etc.)             | Easy to use, with classes and functions   |\n",
        "| **Process management**                | You manually manage processes and resources          | Automatically managed via `Process` class |\n",
        "| **Inter-process communication (IPC)** | Requires manual setup (e.g., pipes)                  | Built-in support (e.g., `Queue`, `Pipe`)  |\n",
        "| **Error handling**                    | More complex                                         | Easier and more Pythonic                  |\n",
        "| **Memory model**                      | Forked process shares initial memory (copy-on-write) | Separate memory space                     |\n"
      ],
      "metadata": {
        "id": "H3psNzFMK6kA"
      }
    },
    {
      "cell_type": "markdown",
      "source": [
        "**19- What is the importance of closing a file in Python?**\n",
        "\n",
        "Closing a file in Python is important because it:\n",
        "\n",
        "1. Frees Up System Resources\n",
        "Every open file consumes file descriptors or system resources.\n",
        "\n",
        "If too many files remain open, it can lead to a “Too many open files” error.\n",
        "\n",
        "2. Ensures Data Is Written Properly\n",
        "\n",
        "When you write to a file, data is often buffered.\n",
        "\n",
        "If you don't close the file, some data may not get written (flushed) to disk.\n",
        "\n",
        "3. Prevents File Corruption or Locks\n",
        "\n",
        "On some systems, files remain locked or inaccessible until properly closed.\n",
        "\n",
        "This can prevent other programs or parts of your code from using the file.\n",
        "\n",
        "4. Enables Safe Reuse of the File\n",
        "\n",
        "Properly closing files lets you safely reopen, rename, delete, or move them afterward."
      ],
      "metadata": {
        "id": "1E-len4hLNgX"
      }
    },
    {
      "cell_type": "markdown",
      "source": [
        "**20- What is the difference between file.read() and file.readline() in Python?**\n",
        "\n",
        "The difference between file.read() and file.readline() in Python lies in how much data they read from a file and how they interpret line breaks.\n",
        "\n",
        "file.read() – Reads the Entire File or a Given Number of Characters\n",
        "\n",
        "Reads the entire contents of the file (as a single string), or a specified number of characters if a size is given.\n",
        "\n",
        "Useful when you want to process all the file data at once.\n",
        "\n",
        "file.readline() – Reads One Line at a Time\n",
        "\n",
        "Reads a single line from the file, up to and including the newline character (\\n).\n",
        "\n",
        "Useful for reading files line by line, especially large ones.\n",
        "\n",
        "Summary of Differences:\n",
        "\n",
        "| Feature        | `file.read()`                | `file.readline()`               |\n",
        "| -------------- | ---------------------------- | ------------------------------- |\n",
        "| Reads          | Entire file or N characters  | One line at a time              |\n",
        "| Return type    | String                       | String                          |\n",
        "| Use case       | Small files or full content  | Large files, line-by-line       |\n",
        "| Efficiency     | Less efficient for big files | More memory-efficient           |\n",
        "| Includes `\\n`? | Yes (if present in content)  | Yes (unless it's the last line) |\n"
      ],
      "metadata": {
        "id": "_9Qde5sQMYlh"
      }
    },
    {
      "cell_type": "markdown",
      "source": [
        "**21- What is the logging module in Python used for?**\n",
        "\n",
        "The logging module in Python is used for tracking events that happen while a program runs. It provides a flexible system for generating and managing log messages, which can help in:\n",
        "\n",
        "1. Debugging\n",
        "It helps developers trace bugs by capturing what the code was doing at any point in time.\n",
        "\n",
        "2. Monitoring\n",
        "Logs can be used in production systems to monitor usage, performance, or errors.\n",
        "\n",
        "3. Error Reporting\n",
        "You can record warnings, errors, and critical issues in a consistent, organized way.\n",
        "\n",
        "4. Auditing\n",
        "Tracks who did what and when, useful for auditing actions in applications.\n"
      ],
      "metadata": {
        "id": "fQ_fvq50M2QJ"
      }
    },
    {
      "cell_type": "markdown",
      "source": [
        "\n",
        "**22- What is the os module in Python used for in file handling?**\n",
        "\n",
        "The os module in Python is used in file handling to interact with the operating system, allowing you to perform a wide range of file and directory operations beyond basic reading and writing. It gives access to functions for creating, removing, inspecting, and modifying files and directories at the system level."
      ],
      "metadata": {
        "id": "vPlRX_8nNSyg"
      }
    },
    {
      "cell_type": "markdown",
      "source": [
        "Common File Handling Uses of the os Module:\n",
        "\n",
        "| Function               | Description                                        |\n",
        "| ---------------------- | -------------------------------------------------- |\n",
        "| `os.getcwd()`          | Returns the current working directory.             |\n",
        "| `os.chdir(path)`       | Changes the current working directory.             |\n",
        "| `os.listdir(path)`     | Lists all files and directories in the given path. |\n",
        "| `os.path.exists(path)` | Checks if a file or directory exists.              |\n",
        "| `os.path.isfile(path)` | Checks if the path is a file.                      |\n",
        "| `os.path.isdir(path)`  | Checks if the path is a directory.                 |\n",
        "| `os.mkdir(path)`       | Creates a new directory.                           |\n",
        "| `os.makedirs(path)`    | Creates a directory and any intermediate ones.     |\n",
        "| `os.remove(path)`      | Deletes a file.                                    |\n",
        "| `os.rmdir(path)`       | Removes a directory (must be empty).               |\n",
        "| `os.rename(src, dst)`  | Renames or moves a file or directory.              |\n"
      ],
      "metadata": {
        "id": "t5Dy5xwBNkDz"
      }
    },
    {
      "cell_type": "markdown",
      "source": [
        "**23- What are the challenges associated with memory management in Python?**\n",
        "\n",
        "Memory management in Python is largely automatic, but it still presents several challenges, especially in large or performance-critical applications. Here are the key challenges developers face:\n",
        "\n",
        "1. Memory Leaks\n",
        "Even though Python uses garbage collection, memory leaks can still occur—especially when:\n",
        "\n",
        "Objects reference each other in reference cycles.\n",
        "\n",
        "Resources (like file handles or sockets) are not explicitly released.\n",
        "\n",
        "C extensions or third-party modules manage memory poorly.\n",
        "\n",
        "2. Reference Cycles\n",
        "Python uses reference counting plus a garbage collector to handle cycles.\n",
        "\n",
        "Circular references (e.g., two objects referencing each other) may not be collected immediately, causing memory to stay allocated longer than expected.\n",
        "\n",
        "3. Large Objects and Containers\n",
        "Data structures like large lists, dictionaries, or Pandas DataFrames can consume significant memory.\n",
        "\n",
        "Python's dynamic typing adds overhead, as even small values are full objects.\n",
        "\n",
        "4. Global Interpreter Lock (GIL)\n",
        "In CPython (the standard implementation), the GIL prevents true multi-threaded memory access, which can be a bottleneck for CPU-bound programs.\n",
        "\n",
        "5. Fragmentation\n",
        "Python manages memory in blocks using a private heap.\n",
        "\n",
        "Over time, memory fragmentation can occur, especially with many small object allocations and deallocations.\n",
        "\n",
        "6. Manual Resource Management\n",
        "Developers sometimes forget to close files, release locks, or free resources, which can lead to leaks or high memory usage.\n",
        "\n",
        "This is especially common when not using with statements or context managers.\n",
        "\n",
        "7. High-Level Abstraction Overhead\n",
        "Python's high-level abstractions come with a memory cost.\n",
        "\n",
        "Example: a simple list of integers takes more memory than an array in C."
      ],
      "metadata": {
        "id": "yr7Y5k7PNpTB"
      }
    },
    {
      "cell_type": "markdown",
      "source": [
        "**24-  How do you raise an exception manually in Python?**\n",
        "\n",
        "In Python, you can raise an exception manually using the raise statement. This is useful when you want to signal that an error condition has occurred, even if the Python interpreter itself hasn't encountered a problem.\n",
        "\n",
        "Syntax:"
      ],
      "metadata": {
        "id": "YKII1dLROBbn"
      }
    },
    {
      "cell_type": "code",
      "source": [
        "raise ExceptionType(\"Optional error message\")\n"
      ],
      "metadata": {
        "id": "al88ZhASOXC1"
      },
      "execution_count": null,
      "outputs": []
    },
    {
      "cell_type": "markdown",
      "source": [
        "**25- Why is it important to use multithreading in certain applications?**\n",
        "\n",
        "Multithreading is important in certain applications because it allows programs to perform multiple operations concurrently, leading to better performance, responsiveness, and resource utilization—especially in I/O-bound tasks.\n",
        "\n",
        "Key Reasons to Use Multithreading:\n",
        "1. Improves Responsiveness\n",
        "Keeps applications (like GUIs or servers) responsive while performing background tasks.\n",
        "\n",
        " Example: A UI app can stay responsive while downloading a file in the background.\n",
        "\n",
        "2. Efficient Use of I/O Wait Time\n",
        "Threads can run while others wait for I/O (e.g., file read/write, network requests).\n",
        "\n",
        " This is ideal for web scrapers, chat servers, and file processing.\n",
        "\n",
        "3. Parallel Execution of Independent Tasks\n",
        "Threads can perform independent tasks simultaneously.\n",
        "\n",
        " Example: Processing multiple API calls, database queries, or sensor readings.\n",
        "\n",
        "4. Resource Sharing\n",
        "Threads share the same memory space, making communication and data sharing between threads easier than between processes.\n",
        "\n",
        "5. Faster Context Switching (than multiprocessing)\n",
        "Threads are lighter than processes; switching between threads is typically faster and uses less memory.\n",
        "\n"
      ],
      "metadata": {
        "id": "NjQ4q2R4OZiT"
      }
    },
    {
      "cell_type": "markdown",
      "source": [
        "**Practical Questions**\n"
      ],
      "metadata": {
        "id": "vRqTPelyO1d7"
      }
    },
    {
      "cell_type": "markdown",
      "source": [
        "1- How can you open a file for writing in Python and write a string to it?"
      ],
      "metadata": {
        "id": "weERQvXhO6mg"
      }
    },
    {
      "cell_type": "code",
      "source": [
        "# Open the file in write mode\n",
        "with open(\"example.txt\", \"w\") as file:\n",
        "    file.write(\"Hello, world!\") # Writes the string to the file.\n"
      ],
      "metadata": {
        "id": "2lPAfSl-PDqr"
      },
      "execution_count": 9,
      "outputs": []
    },
    {
      "cell_type": "markdown",
      "source": [
        "2-Write a Python program to read the contents of a file and print each line."
      ],
      "metadata": {
        "id": "R_QJe9z7PX67"
      }
    },
    {
      "cell_type": "code",
      "source": [
        "# Open the file in read mode\n",
        "with open(\"example.txt\", \"r\") as file:\n",
        "    # Loop through each line in the file\n",
        "    for line in file:\n",
        "        print(line, end=\"\")  # `end=\"\"` to avoid double newlines\n"
      ],
      "metadata": {
        "colab": {
          "base_uri": "https://localhost:8080/"
        },
        "id": "FBxXLoqaPcm3",
        "outputId": "54914dcd-8d63-4574-cd0a-f8bb103efc71"
      },
      "execution_count": 11,
      "outputs": [
        {
          "output_type": "stream",
          "name": "stdout",
          "text": [
            "Hello, world!"
          ]
        }
      ]
    },
    {
      "cell_type": "markdown",
      "source": [
        "3- How would you handle a case where the file doesn't exist while trying to open it for reading?\n",
        "\n",
        "To handle the case where the file doesn't exist while trying to open it for reading, you can use a try-except block. This allows you to catch the exception (FileNotFoundError) and handle it gracefully instead of letting the program crash.\n",
        "\n",
        "Here’s an example:"
      ],
      "metadata": {
        "id": "Ju5CGTYtPxxD"
      }
    },
    {
      "cell_type": "code",
      "source": [
        "try:\n",
        "    # Attempt to open the file in read mode\n",
        "    with open(\"example.txt\", \"r\") as file:\n",
        "        # Loop through each line in the file and print it\n",
        "        for line in file:\n",
        "            print(line, end=\"\")\n",
        "except FileNotFoundError:\n",
        "    print(\"Error: The file does not exist.\")\n"
      ],
      "metadata": {
        "colab": {
          "base_uri": "https://localhost:8080/"
        },
        "id": "KRQ3m6qKQTKJ",
        "outputId": "6a830970-7a6f-4766-a8b4-073dba3a6000"
      },
      "execution_count": 12,
      "outputs": [
        {
          "output_type": "stream",
          "name": "stdout",
          "text": [
            "Hello, world!"
          ]
        }
      ]
    },
    {
      "cell_type": "markdown",
      "source": [
        "Explanation:\n",
        "\n",
        "try block: Attempts to open the file and read its contents.\n",
        "\n",
        "except FileNotFoundError: Catches the exception if the file doesn't exist and prints an error message.\n",
        "\n",
        "with statement: Ensures the file is properly closed after reading, even if an exception occurs."
      ],
      "metadata": {
        "id": "tCUM_C07QajO"
      }
    },
    {
      "cell_type": "markdown",
      "source": [
        "4- Write a Python script that reads from one file and writes its content to another file."
      ],
      "metadata": {
        "id": "zfBx0DSbQb8i"
      }
    },
    {
      "cell_type": "code",
      "source": [
        "# Open the source file in read mode and the destination file in write mode\n",
        "with open(\"source.txt\", \"r\") as source_file, open(\"destination.txt\", \"w\") as destination_file:\n",
        "    # Read the content from the source file and write it to the destination file\n",
        "    content = source_file.read()  # Read the entire content\n",
        "    destination_file.write(content)  # Write the content to the destination file\n",
        "\n"
      ],
      "metadata": {
        "id": "rzd4qZzdQlUs"
      },
      "execution_count": 14,
      "outputs": []
    },
    {
      "cell_type": "markdown",
      "source": [
        "5-How would you catch and handle division by zero error in Python?\n",
        "\n",
        "To catch and handle a division by zero error in Python, you can use a try-except block. The specific exception you want to catch is ZeroDivisionError. Here's how you can do it:"
      ],
      "metadata": {
        "id": "D-ALlieuQxF1"
      }
    },
    {
      "cell_type": "code",
      "source": [
        "try:\n",
        "    # Try to perform division\n",
        "    result = 10 / 0  # This will raise a ZeroDivisionError\n",
        "except ZeroDivisionError:\n",
        "    print(\"Error: Cannot divide by zero.\")\n",
        "else:\n",
        "    print(f\"Result: {result}\")\n"
      ],
      "metadata": {
        "colab": {
          "base_uri": "https://localhost:8080/"
        },
        "id": "PeX2msHHQ_wb",
        "outputId": "d604cbcb-bf86-4e5c-b590-3023b57f8cff"
      },
      "execution_count": 15,
      "outputs": [
        {
          "output_type": "stream",
          "name": "stdout",
          "text": [
            "Error: Cannot divide by zero.\n"
          ]
        }
      ]
    },
    {
      "cell_type": "markdown",
      "source": [
        "Explanation:\n",
        "\n",
        "try block: Attempts to execute the division operation.\n",
        "\n",
        "except ZeroDivisionError: Catches the ZeroDivisionError that occurs if you try to divide by zero and handles it by printing an error message.\n",
        "\n",
        "else block: This block executes only if there was no error in the try block, and it prints the result of the division (though in this case, an error occurs)."
      ],
      "metadata": {
        "id": "tUfRKB6zREIG"
      }
    },
    {
      "cell_type": "markdown",
      "source": [
        "6- Write a Python program that logs an error message to a log file when a division by zero exception occurs?"
      ],
      "metadata": {
        "id": "GudwJ8YtRGVI"
      }
    },
    {
      "cell_type": "code",
      "source": [
        "import logging\n",
        "\n",
        "# Set up logging configuration\n",
        "logging.basicConfig(filename=\"error_log.txt\", level=logging.ERROR,\n",
        "                    format=\"%(asctime)s - %(levelname)s - %(message)s\")\n",
        "\n",
        "try:\n",
        "    # Attempt to perform division\n",
        "    result = 10 / 0  # This will raise a ZeroDivisionError\n",
        "except ZeroDivisionError as e:\n",
        "    # Log the error message to the log file\n",
        "    logging.error(f\"Division by zero error: {e}\")\n",
        "    print(\"Error: Cannot divide by zero.\")\n"
      ],
      "metadata": {
        "colab": {
          "base_uri": "https://localhost:8080/"
        },
        "id": "SgVTHYw3RhuI",
        "outputId": "b1706204-88ad-4d68-caf9-c14cd60201e4"
      },
      "execution_count": 16,
      "outputs": [
        {
          "output_type": "stream",
          "name": "stderr",
          "text": [
            "ERROR:root:Division by zero error: division by zero\n"
          ]
        },
        {
          "output_type": "stream",
          "name": "stdout",
          "text": [
            "Error: Cannot divide by zero.\n"
          ]
        }
      ]
    },
    {
      "cell_type": "markdown",
      "source": [
        "7- How do you log information at different levels (INFO, ERROR, WARNING) in Python using the logging module?\n",
        "\n",
        "In Python, the logging module allows you to log messages at different severity levels: DEBUG, INFO, WARNING, ERROR, and CRITICAL. Each level represents the importance of the message. You can log messages at these levels depending on the context and what you're trying to communicate.\n",
        "\n",
        "Here’s how you can use different logging levels:"
      ],
      "metadata": {
        "id": "TzUO6Gg6Rn-r"
      }
    },
    {
      "cell_type": "code",
      "source": [
        "import logging\n",
        "\n",
        "# Set up logging configuration\n",
        "logging.basicConfig(level=logging.DEBUG,  # Capture all log levels from DEBUG and above\n",
        "                    format=\"%(asctime)s - %(levelname)s - %(message)s\",\n",
        "                    filename=\"app_log.txt\",  # Logs will be written to this file\n",
        "                    filemode=\"a\")  # 'a' for append mode, so new logs will be added\n",
        "\n",
        "# Logging at different levels\n",
        "\n",
        "# DEBUG level - for detailed information, typically for diagnosing problems\n",
        "logging.debug(\"This is a debug message, typically useful for development.\")\n",
        "\n",
        "# INFO level - for general information, usually about the normal operation of the program\n",
        "logging.info(\"This is an informational message, indicating regular operation.\")\n",
        "\n",
        "# WARNING level - for situations that are not necessarily errors but might require attention\n",
        "logging.warning(\"This is a warning message, something that might go wrong.\")\n",
        "\n",
        "# ERROR level - for errors that occur during execution, but are handled gracefully\n",
        "logging.error(\"This is an error message, indicating something went wrong.\")\n",
        "\n",
        "# CRITICAL level - for severe errors that require immediate attention\n",
        "logging.critical(\"This is a critical message, indicating a serious problem.\")\n"
      ],
      "metadata": {
        "colab": {
          "base_uri": "https://localhost:8080/"
        },
        "id": "mA-0MRrcR52S",
        "outputId": "8465957d-4fe7-4338-ab41-862845301c72"
      },
      "execution_count": 17,
      "outputs": [
        {
          "output_type": "stream",
          "name": "stderr",
          "text": [
            "WARNING:root:This is a warning message, something that might go wrong.\n",
            "ERROR:root:This is an error message, indicating something went wrong.\n",
            "CRITICAL:root:This is a critical message, indicating a serious problem.\n"
          ]
        }
      ]
    },
    {
      "cell_type": "markdown",
      "source": [
        "Explanation of the Logging Levels:\n",
        "DEBUG:\n",
        "\n",
        "Used for detailed diagnostic information.\n",
        "\n",
        "Typically used in development or for debugging.\n",
        "\n",
        "Example: \"Entering function xyz with arguments abc.\"\n",
        "\n",
        "INFO:\n",
        "\n",
        "Used for general informational messages about the application's progress.\n",
        "\n",
        "Example: \"User successfully logged in.\"\n",
        "\n",
        "WARNING:\n",
        "\n",
        "Used when something unexpected happens, but the program can still continue running.\n",
        "\n",
        "Example: \"Disk space is running low.\"\n",
        "\n",
        "ERROR:\n",
        "\n",
        "Used when an error occurs that prevents the program from performing a specific task, but the program can still continue.\n",
        "\n",
        "Example: \"Failed to connect to database.\"\n",
        "\n",
        "CRITICAL:\n",
        "\n",
        "Used for very severe errors that may result in the program stopping or crashing.\n",
        "\n",
        "Example: \"System crash, unable to recover.\""
      ],
      "metadata": {
        "id": "DJEyCnY6SA26"
      }
    },
    {
      "cell_type": "markdown",
      "source": [
        "8- Write a program to handle a file opening error using exception handling?"
      ],
      "metadata": {
        "id": "jDZvbPkgSEm0"
      }
    },
    {
      "cell_type": "code",
      "source": [
        "try:\n",
        "    # Attempt to open the file\n",
        "    with open(\"example.txt\", \"r\") as file:\n",
        "        content = file.read()\n",
        "        print(content)\n",
        "except FileNotFoundError:\n",
        "    print(\"Error: The file does not exist.\")\n",
        "except IOError:\n",
        "    print(\"Error: An IO error occurred while opening the file.\")\n",
        "except Exception as e:\n",
        "    print(f\"An unexpected error occurred: {e}\")\n"
      ],
      "metadata": {
        "colab": {
          "base_uri": "https://localhost:8080/"
        },
        "id": "T6H2zHcdSPeb",
        "outputId": "a910f6d7-5e14-4323-99ca-6bfeee9e90e9"
      },
      "execution_count": 18,
      "outputs": [
        {
          "output_type": "stream",
          "name": "stdout",
          "text": [
            "Hello, world!\n"
          ]
        }
      ]
    },
    {
      "cell_type": "markdown",
      "source": [
        "9-How can you read a file line by line and store its content in a list in Python?\n",
        "\n",
        "To read a file line by line and store its content in a list, you can use the readlines() method or iterate over the file object itself. Each line will be stored as an element in the list. Here's how to do both:\n",
        "\n",
        "1. Using readlines() Method:"
      ],
      "metadata": {
        "id": "2MdJBVH7SW2L"
      }
    },
    {
      "cell_type": "code",
      "source": [
        "# Open the file in read mode\n",
        "with open(\"example.txt\", \"r\") as file:\n",
        "    # Read all lines and store them in a list\n",
        "    lines = file.readlines()\n",
        "\n",
        "# Print the list of lines\n",
        "print(lines)\n"
      ],
      "metadata": {
        "colab": {
          "base_uri": "https://localhost:8080/"
        },
        "id": "4WJrlMOjSjFw",
        "outputId": "137f76df-e703-4e76-d980-2a2b88605cf1"
      },
      "execution_count": 19,
      "outputs": [
        {
          "output_type": "stream",
          "name": "stdout",
          "text": [
            "['Hello, world!']\n"
          ]
        }
      ]
    },
    {
      "cell_type": "markdown",
      "source": [
        "Explanation:\n",
        "file.readlines(): This method reads the entire file and returns a list where each element is a line from the file, including the newline character (\\n).\n",
        "\n",
        "The with statement ensures the file is properly closed after reading.\n",
        "\n",
        "2. Iterating Over the File Object:"
      ],
      "metadata": {
        "id": "7x5Tx2XPSnO2"
      }
    },
    {
      "cell_type": "code",
      "source": [
        "lines = []\n",
        "\n",
        "# Open the file in read mode\n",
        "with open(\"example.txt\", \"r\") as file:\n",
        "    # Iterate over each line in the file and append it to the list\n",
        "    for line in file:\n",
        "        lines.append(line)\n",
        "\n",
        "# Print the list of lines\n",
        "print(lines)\n"
      ],
      "metadata": {
        "colab": {
          "base_uri": "https://localhost:8080/"
        },
        "id": "C2z27ljkSq6l",
        "outputId": "273990bb-1379-48b6-cdb7-42415d04ca4b"
      },
      "execution_count": 20,
      "outputs": [
        {
          "output_type": "stream",
          "name": "stdout",
          "text": [
            "['Hello, world!']\n"
          ]
        }
      ]
    },
    {
      "cell_type": "markdown",
      "source": [
        "Explanation:\n",
        "\n",
        "for line in file: This iterates over the file line by line. Each line is read and appended to the list lines.\n",
        "\n",
        "with statement: Automatically closes the file after reading."
      ],
      "metadata": {
        "id": "_xnG8AO0SvNw"
      }
    },
    {
      "cell_type": "markdown",
      "source": [
        "10- How can you append data to an existing file in Python?\n",
        "\n",
        "To append data to an existing file in Python, you can open the file in append mode (\"a\"). This ensures that new data is added to the end of the file without overwriting the existing content."
      ],
      "metadata": {
        "id": "J-tjwLFRTAXk"
      }
    },
    {
      "cell_type": "code",
      "source": [
        "# Open the file in append mode\n",
        "with open(\"example.txt\", \"a\") as file:\n",
        "    # Append new content to the file\n",
        "    file.write(\"\\nThis is an additional line.\")\n"
      ],
      "metadata": {
        "id": "v-2GbRyNTMgy"
      },
      "execution_count": 21,
      "outputs": []
    },
    {
      "cell_type": "markdown",
      "source": [
        "Explanation:\n",
        "\n",
        "\"a\" mode: Opens the file in append mode. If the file doesn’t exist, it will be created. If the file already exists, the content will be added to the end of the file without modifying the existing content.\n",
        "\n",
        "file.write(): Writes the specified string to the file. Here, we are appending a new line of text.\n",
        "\n",
        "\\n: Adds a newline character to ensure the new content starts on a new line (this is optional depending on where you want the data to be appended)."
      ],
      "metadata": {
        "id": "uxwz0KrgTPb2"
      }
    },
    {
      "cell_type": "markdown",
      "source": [
        "11- Write a Python program that uses a try-except block to handle an error when attempting to access a dictionary key that doesn't exist."
      ],
      "metadata": {
        "id": "bIYOjqTiTaCi"
      }
    },
    {
      "cell_type": "code",
      "source": [
        "# Sample dictionary\n",
        "my_dict = {'name': 'Alice', 'age': 25}\n",
        "\n",
        "# Key to access\n",
        "key_to_access = 'address'\n",
        "\n",
        "try:\n",
        "    # Attempt to access the dictionary key\n",
        "    value = my_dict[key_to_access]\n",
        "    print(f\"Value for '{key_to_access}': {value}\")\n",
        "except KeyError:\n",
        "    # Handle the case when the key doesn't exist\n",
        "    print(f\"Error: The key '{key_to_access}' does not exist in the dictionary.\")\n",
        "\n",
        "\n"
      ],
      "metadata": {
        "colab": {
          "base_uri": "https://localhost:8080/"
        },
        "id": "dI6wiFzENiao",
        "outputId": "2bd53819-082e-4fa2-fbce-59ccdd620726"
      },
      "execution_count": 22,
      "outputs": [
        {
          "output_type": "stream",
          "name": "stdout",
          "text": [
            "Error: The key 'address' does not exist in the dictionary.\n"
          ]
        }
      ]
    },
    {
      "cell_type": "markdown",
      "source": [
        "Explanation:\n",
        "\n",
        "try block: Attempts to access the value for the given key (key_to_access).\n",
        "\n",
        "except KeyError: If the key doesn't exist in the dictionary, a KeyError will be raised, and this block will handle the error by printing a message indicating that the key doesn't exist.\n",
        "\n",
        "key_to_access: This is the key we're trying to access in the dictionary. In this case, we use a key ('address') that doesn't exist in my_dict."
      ],
      "metadata": {
        "id": "2DDDJLqzTrDq"
      }
    },
    {
      "cell_type": "markdown",
      "source": [
        "12- Write a program that demonstrates using multiple except blocks to handle different types of exceptions."
      ],
      "metadata": {
        "id": "loYEmDzsTthz"
      }
    },
    {
      "cell_type": "code",
      "source": [
        "try:\n",
        "    # Attempt to perform different operations that may raise various exceptions\n",
        "    x = int(input(\"Enter a number: \"))  # May raise ValueError\n",
        "    y = int(input(\"Enter another number: \"))  # May raise ValueError\n",
        "    result = x / y  # May raise ZeroDivisionError\n",
        "    print(f\"Result: {result}\")\n",
        "\n",
        "except ValueError:\n",
        "    print(\"Error: Invalid input. Please enter a valid number.\")\n",
        "\n",
        "except ZeroDivisionError:\n",
        "    print(\"Error: Cannot divide by zero.\")\n",
        "\n",
        "except Exception as e:\n",
        "    print(f\"An unexpected error occurred: {e}\")\n"
      ],
      "metadata": {
        "colab": {
          "base_uri": "https://localhost:8080/"
        },
        "id": "H7HDGAHsT5YG",
        "outputId": "2a12ff7f-7324-45e0-b447-208785f5ef08"
      },
      "execution_count": 23,
      "outputs": [
        {
          "output_type": "stream",
          "name": "stdout",
          "text": [
            "Enter a number: 12\n",
            "Enter another number: 13\n",
            "Result: 0.9230769230769231\n"
          ]
        }
      ]
    },
    {
      "cell_type": "markdown",
      "source": [
        "Explanation:\n",
        "\n",
        "try block: This block contains code that might raise different exceptions. We:\n",
        "\n",
        "Take user input and try to convert it to an integer (int()), which can raise a ValueError if the input is not a valid number.\n",
        "\n",
        "Perform a division, which can raise a ZeroDivisionError if the second number (y) is zero.\n",
        "\n",
        "except ValueError: This block handles the case where the user provides invalid input that can't be converted to an integer, and a ValueError is raised.\n",
        "\n",
        "except ZeroDivisionError: This block handles the case where the user attempts to divide by zero, and a ZeroDivisionError is raised.\n",
        "\n",
        "except Exception as e: This is a catch-all block for any other unexpected exceptions that might occur. It prints the error message."
      ],
      "metadata": {
        "id": "Dh2zbdauUBX4"
      }
    },
    {
      "cell_type": "markdown",
      "source": [
        "13- How would you check if a file exists before attempting to read it in Python?\n",
        "\n",
        "To check if a file exists before attempting to read it in Python, you can use the os.path.exists() method from the os module or the Path object from the pathlib module. Here's how you can do it using both approaches:\n",
        "\n",
        "1. Using os.path.exists():"
      ],
      "metadata": {
        "id": "AOpcnzyrUDYf"
      }
    },
    {
      "cell_type": "code",
      "source": [
        "import os\n",
        "\n",
        "file_path = \"example.txt\"\n",
        "\n",
        "# Check if the file exists\n",
        "if os.path.exists(file_path):\n",
        "    with open(file_path, \"r\") as file:\n",
        "        content = file.read()\n",
        "        print(content)\n",
        "else:\n",
        "    print(f\"Error: The file '{file_path}' does not exist.\")\n"
      ],
      "metadata": {
        "colab": {
          "base_uri": "https://localhost:8080/"
        },
        "id": "hZII3J3PURmq",
        "outputId": "3377bda0-3d52-4026-e5fa-c64d34307d7c"
      },
      "execution_count": 24,
      "outputs": [
        {
          "output_type": "stream",
          "name": "stdout",
          "text": [
            "Hello, world!\n",
            "This is an additional line.\n"
          ]
        }
      ]
    },
    {
      "cell_type": "markdown",
      "source": [
        "Explanation:\n",
        "\n",
        "os.path.exists(): This function returns True if the specified file or directory exists, and False otherwise.\n",
        "\n",
        "open(file_path, \"r\"): If the file exists, it opens the file in read mode and prints its content.\n",
        "\n",
        "If the file does not exist, it prints an error message.\n",
        "\n",
        "2. Using pathlib.Path (Modern Approach):"
      ],
      "metadata": {
        "id": "BrAVrzIyUU4H"
      }
    },
    {
      "cell_type": "code",
      "source": [
        "from pathlib import Path\n",
        "\n",
        "file_path = Path(\"example.txt\")\n",
        "\n",
        "# Check if the file exists\n",
        "if file_path.exists():\n",
        "    with file_path.open(\"r\") as file:\n",
        "        content = file.read()\n",
        "        print(content)\n",
        "else:\n",
        "    print(f\"Error: The file '{file_path}' does not exist.\")\n"
      ],
      "metadata": {
        "colab": {
          "base_uri": "https://localhost:8080/"
        },
        "id": "IFKKlm3OUXwe",
        "outputId": "57b35a4b-dbac-4d5e-df52-e0de74bea611"
      },
      "execution_count": 25,
      "outputs": [
        {
          "output_type": "stream",
          "name": "stdout",
          "text": [
            "Hello, world!\n",
            "This is an additional line.\n"
          ]
        }
      ]
    },
    {
      "cell_type": "markdown",
      "source": [
        "Explanation:\n",
        "\n",
        "Path.exists(): This method checks if the file or directory exists.\n",
        "\n",
        "file_path.open(\"r\"): Opens the file in read mode if it exists and prints its content.\n",
        "\n",
        "pathlib.Path is considered more modern and object-oriented compared to os.path."
      ],
      "metadata": {
        "id": "OZrc077OUa_-"
      }
    },
    {
      "cell_type": "markdown",
      "source": [
        "14- Write a program that uses the logging module to log both informational and error messages."
      ],
      "metadata": {
        "id": "ovXlZTjGUgFy"
      }
    },
    {
      "cell_type": "code",
      "source": [
        "import logging\n",
        "\n",
        "# Set up logging configuration\n",
        "logging.basicConfig(\n",
        "    level=logging.DEBUG,  # Set the root logger level to DEBUG to capture all levels\n",
        "    format=\"%(asctime)s - %(levelname)s - %(message)s\",  # Log format\n",
        "    filename=\"app_log.txt\",  # Log messages to this file\n",
        "    filemode=\"a\"  # 'a' for append mode\n",
        ")\n",
        "\n",
        "# Log an informational message\n",
        "logging.info(\"This is an informational message. The program is running normally.\")\n",
        "\n",
        "# Log an error message\n",
        "try:\n",
        "    x = 10 / 0  # This will raise a ZeroDivisionError\n",
        "except ZeroDivisionError as e:\n",
        "    logging.error(f\"An error occurred: {e}\")\n",
        "\n",
        "# Another informational message\n",
        "logging.info(\"This is another informational message after the error.\")\n"
      ],
      "metadata": {
        "colab": {
          "base_uri": "https://localhost:8080/"
        },
        "id": "d1qDvY-AUs4M",
        "outputId": "5758216c-0b30-4c84-826b-81fea018a99d"
      },
      "execution_count": 27,
      "outputs": [
        {
          "output_type": "stream",
          "name": "stderr",
          "text": [
            "ERROR:root:An error occurred: division by zero\n"
          ]
        }
      ]
    },
    {
      "cell_type": "markdown",
      "source": [
        "Explanation:\n",
        "\n",
        "logging.basicConfig():\n",
        "\n",
        "level=logging.DEBUG: This sets the logging level to DEBUG. By setting this level, all messages with severity DEBUG or higher (i.e., INFO, WARNING, ERROR, CRITICAL) will be logged.\n",
        "\n",
        "format=\"%(asctime)s - %(levelname)s - %(message)s\": This sets the log format to include the timestamp, log level (e.g., INFO, ERROR), and the actual log message.\n",
        "\n",
        "filename=\"app_log.txt\": This directs the log messages to be saved in a file named app_log.txt.\n",
        "\n",
        "filemode=\"a\": Specifies that the log messages will be appended to the file (instead of overwriting).\n",
        "\n",
        "Logging Messages:\n",
        "\n",
        "logging.info(): Used to log informational messages.\n",
        "\n",
        "logging.error(): Used to log error messages. The error message is logged when a ZeroDivisionError occurs."
      ],
      "metadata": {
        "id": "fYhgz5SJU2AP"
      }
    },
    {
      "cell_type": "markdown",
      "source": [
        "15- Write a Python program that prints the content of a file and handles the case when the file is empty."
      ],
      "metadata": {
        "id": "GTXlQUycU353"
      }
    },
    {
      "cell_type": "code",
      "source": [
        "def read_file(file_path):\n",
        "    try:\n",
        "        # Open the file in read mode\n",
        "        with open(file_path, \"r\") as file:\n",
        "            content = file.read()\n",
        "\n",
        "            # Check if the file is empty\n",
        "            if not content:\n",
        "                print(\"The file is empty.\")\n",
        "            else:\n",
        "                print(\"File content:\")\n",
        "                print(content)\n",
        "\n",
        "    except FileNotFoundError:\n",
        "        print(f\"Error: The file '{file_path}' does not exist.\")\n",
        "    except Exception as e:\n",
        "        print(f\"An unexpected error occurred: {e}\")\n",
        "\n",
        "# Path to the file\n",
        "file_path = \"example.txt\"\n",
        "read_file(file_path)\n"
      ],
      "metadata": {
        "colab": {
          "base_uri": "https://localhost:8080/"
        },
        "id": "MRAIjF0PVBdm",
        "outputId": "722b7b08-e455-49ef-c244-a58cdad0f881"
      },
      "execution_count": 28,
      "outputs": [
        {
          "output_type": "stream",
          "name": "stdout",
          "text": [
            "File content:\n",
            "Hello, world!\n",
            "This is an additional line.\n"
          ]
        }
      ]
    },
    {
      "cell_type": "markdown",
      "source": [
        "Explanation:\n",
        "\n",
        "open(file_path, \"r\"): This opens the file in read mode. If the file doesn't exist, a FileNotFoundError will be raised.\n",
        "\n",
        "content = file.read(): This reads the entire content of the file into the content variable.\n",
        "\n",
        "if not content: This checks if the file content is empty. If the file is empty, it prints \"The file is empty.\".\n",
        "\n",
        "except FileNotFoundError: This catches the case where the file does not exist and prints a message.\n",
        "\n",
        "except Exception as e: This catches any other exceptions that might occur and prints a general error message."
      ],
      "metadata": {
        "id": "VpMfKSj_VFmO"
      }
    },
    {
      "cell_type": "markdown",
      "source": [
        "16- Demonstrate how to use memory profiling to check the memory usage of a small program.\n",
        "\n",
        "To check the memory usage of a small program in Python, you can use the memory_profiler module, which provides tools to profile the memory consumption of Python programs. The module gives detailed information about memory usage line by line.\n",
        "\n",
        "Steps to Use Memory Profiling in Python:\n",
        "\n",
        "Install memory_profiler:\n",
        "First, you need to install the memory_profiler module. You can do this via pip:"
      ],
      "metadata": {
        "id": "BAjjcN1qVHma"
      }
    },
    {
      "cell_type": "code",
      "source": [
        "pip install memory-profiler\n"
      ],
      "metadata": {
        "id": "dMA-gHYuVapY"
      },
      "execution_count": null,
      "outputs": []
    },
    {
      "cell_type": "markdown",
      "source": [
        "Here's an example Python program that demonstrates how to use memory profiling."
      ],
      "metadata": {
        "id": "MDKV6Pv-VcEm"
      }
    },
    {
      "cell_type": "code",
      "source": [
        "# Importing memory_profiler\n",
        "from memory_profiler import profile\n",
        "\n",
        "# Example function to demonstrate memory profiling\n",
        "@profile\n",
        "def my_function():\n",
        "    a = [1] * (10**6)  # Create a list with 1 million integers\n",
        "    b = [2] * (2 * 10**7)  # Create a list with 20 million integers\n",
        "    del b  # Delete 'b' to free memory\n",
        "    return a\n",
        "\n",
        "# Call the function\n",
        "my_function()\n",
        "\n"
      ],
      "metadata": {
        "id": "bQda2PLxVes4"
      },
      "execution_count": 29,
      "outputs": []
    },
    {
      "cell_type": "markdown",
      "source": [
        "Explanation:\n",
        "\n",
        "@profile decorator: This decorator marks the function (my_function) to be profiled. When the program is run with memory profiling, it will show memory usage for each line inside the function.\n",
        "\n",
        "Creating large lists: We create two large lists (a and b) to simulate memory usage. The list b is much larger to see a noticeable memory impact.\n",
        "\n",
        "del b: After using the list b, we delete it to free up memory and check the change in memory usage.\n",
        "\n",
        "How to Run the Program:\n",
        "\n",
        "To run the program with memory profiling, you should execute the Python file from the command line like this:"
      ],
      "metadata": {
        "id": "KE24GGr5VsRy"
      }
    },
    {
      "cell_type": "code",
      "source": [
        "python -m memory_profiler your_program.py\n"
      ],
      "metadata": {
        "id": "f0W9BO8QV1F0"
      },
      "execution_count": null,
      "outputs": []
    },
    {
      "cell_type": "markdown",
      "source": [
        "17- Write a Python program to create and write a list of numbers to a file, one number per line."
      ],
      "metadata": {
        "id": "WzOcA3LOV4RD"
      }
    },
    {
      "cell_type": "code",
      "source": [
        "# List of numbers to write to the file\n",
        "numbers = [1, 2, 3, 4, 5, 6, 7, 8, 9, 10]\n",
        "\n",
        "# Open the file in write mode\n",
        "with open(\"numbers.txt\", \"w\") as file:\n",
        "    # Iterate over the list and write each number to a new line in the file\n",
        "    for number in numbers:\n",
        "        file.write(f\"{number}\\n\")\n",
        "\n",
        "print(\"Numbers have been written to the file.\")\n"
      ],
      "metadata": {
        "colab": {
          "base_uri": "https://localhost:8080/"
        },
        "id": "ayCusZ2_WC2O",
        "outputId": "45a0629a-86cf-416e-bd5e-f8d26760a436"
      },
      "execution_count": 30,
      "outputs": [
        {
          "output_type": "stream",
          "name": "stdout",
          "text": [
            "Numbers have been written to the file.\n"
          ]
        }
      ]
    },
    {
      "cell_type": "markdown",
      "source": [
        "Explanation:\n",
        "\n",
        "numbers: This is the list of numbers you want to write to the file.\n",
        "\n",
        "open(\"numbers.txt\", \"w\"): Opens the file in write mode. If the file doesn't exist, it will be created. If the file already exists, it will be overwritten.\n",
        "\n",
        "with open(...): This ensures that the file is properly closed after the operations are done, even if an error occurs within the block.\n",
        "\n",
        "file.write(f\"{number}\\n\"): Writes each number followed by a newline character (\\n) to ensure each number appears on a new line in the file.\n",
        "\n",
        "f\"{number}\\n\": Using an f-string to format each number and add a newline after each number."
      ],
      "metadata": {
        "id": "Gvqj4I_NWM9v"
      }
    },
    {
      "cell_type": "markdown",
      "source": [
        "18- How would you implement a basic logging setup that logs to a file with rotation after 1MB?\n",
        "\n",
        "To implement a basic logging setup that logs to a file with rotation after the file reaches 1MB, you can use Python's built-in logging module combined with the RotatingFileHandler. This handler automatically manages log file size and can rotate the log file when it reaches a specified size limit.\n",
        "\n",
        "Steps:\n",
        "\n",
        "Import necessary modules: You'll need the logging module and logging.handlers.RotatingFileHandler.\n",
        "\n",
        "Configure the RotatingFileHandler:\n",
        "\n",
        "This handler will write log entries to a file and rotate the log file when it reaches the specified size (in this case, 1MB).\n",
        "\n",
        "Define the rotation settings: You specify the maximum file size and how many backup files to keep"
      ],
      "metadata": {
        "id": "6jwRhdL-WPqA"
      }
    },
    {
      "cell_type": "code",
      "source": [
        "import logging\n",
        "from logging.handlers import RotatingFileHandler\n",
        "\n",
        "# Define the log file path\n",
        "log_file = \"app_log.txt\"\n",
        "\n",
        "# Set up the logging configuration\n",
        "logger = logging.getLogger()\n",
        "logger.setLevel(logging.DEBUG)  # Set the logging level to DEBUG\n",
        "\n",
        "# Create a rotating file handler that will rotate the log file after 1MB\n",
        "handler = RotatingFileHandler(log_file, maxBytes=1e6, backupCount=3)  # 1MB = 1e6 bytes\n",
        "handler.setLevel(logging.DEBUG)  # Set the logging level for the handler\n",
        "\n",
        "# Define the log format\n",
        "formatter = logging.Formatter('%(asctime)s - %(levelname)s - %(message)s')\n",
        "handler.setFormatter(formatter)\n",
        "\n",
        "# Add the handler to the logger\n",
        "logger.addHandler(handler)\n",
        "\n",
        "# Example of logging some messages\n",
        "logger.info(\"This is an informational message.\")\n",
        "logger.warning(\"This is a warning message.\")\n",
        "logger.error(\"This is an error message.\")\n"
      ],
      "metadata": {
        "colab": {
          "base_uri": "https://localhost:8080/"
        },
        "id": "goT4pLhgWi9z",
        "outputId": "c0f66706-a25d-4060-c7ba-6c483d6a63ad"
      },
      "execution_count": 31,
      "outputs": [
        {
          "output_type": "stream",
          "name": "stderr",
          "text": [
            "INFO:root:This is an informational message.\n",
            "WARNING:root:This is a warning message.\n",
            "ERROR:root:This is an error message.\n"
          ]
        }
      ]
    },
    {
      "cell_type": "markdown",
      "source": [
        "Explanation:\n",
        "\n",
        "RotatingFileHandler(log_file, maxBytes=1e6, backupCount=3):\n",
        "\n",
        "log_file: Specifies the name of the log file (app_log.txt).\n",
        "\n",
        "maxBytes=1e6: Specifies the maximum size of the log file in bytes (1MB = 1,000,000 bytes).\n",
        "\n",
        "backupCount=3: Specifies how many backup files to keep. Once the log file reaches the maximum size, the current log file is renamed, and a new log file is created. Older log files will be numbered (app_log.txt.1, app_log.txt.2, etc.), and older backups will be deleted when the limit is reached.\n",
        "\n",
        "logger.setLevel(logging.DEBUG): Sets the logging level of the logger to DEBUG, so all messages (DEBUG and higher) will be logged.\n",
        "\n",
        "formatter: Defines the log message format, which includes the timestamp, log level, and the message.\n",
        "\n",
        "logger.addHandler(handler): Adds the rotating file handler to the logger."
      ],
      "metadata": {
        "id": "L5OGgHv3WnDR"
      }
    },
    {
      "cell_type": "markdown",
      "source": [
        "19- Write a program that handles both IndexError and KeyError using a try-except block."
      ],
      "metadata": {
        "id": "as0A4MUbWrLy"
      }
    },
    {
      "cell_type": "code",
      "source": [
        "# Sample list and dictionary\n",
        "sample_list = [1, 2, 3]\n",
        "sample_dict = {'a': 1, 'b': 2}\n",
        "\n",
        "# Function to demonstrate IndexError and KeyError handling\n",
        "def handle_errors():\n",
        "    try:\n",
        "        # Trying to access an index that doesn't exist\n",
        "        print(sample_list[5])\n",
        "\n",
        "        # Trying to access a key that doesn't exist in the dictionary\n",
        "        print(sample_dict['c'])\n",
        "\n",
        "    except IndexError as e:\n",
        "        print(f\"IndexError: {e} - List index is out of range.\")\n",
        "\n",
        "    except KeyError as e:\n",
        "        print(f\"KeyError: {e} - Dictionary key does not exist.\")\n",
        "\n",
        "# Call the function\n",
        "handle_errors()\n"
      ],
      "metadata": {
        "colab": {
          "base_uri": "https://localhost:8080/"
        },
        "id": "AQ4i2AnPW3I7",
        "outputId": "8b6c060b-cc69-4018-a9ad-9d365c29534b"
      },
      "execution_count": 32,
      "outputs": [
        {
          "output_type": "stream",
          "name": "stdout",
          "text": [
            "IndexError: list index out of range - List index is out of range.\n"
          ]
        }
      ]
    },
    {
      "cell_type": "markdown",
      "source": [
        "Explanation:\n",
        "\n",
        "sample_list and sample_dict: These are the list and dictionary we are working with.\n",
        "\n",
        "try block: Inside the try block, we try to access an index (sample_list[5]) and a key (sample_dict['c']) that do not exist, which will raise an IndexError and a KeyError, respectively.\n",
        "\n",
        "except IndexError as e: This block handles the IndexError if an invalid index is accessed in the list.\n",
        "\n",
        "except KeyError as e: This block handles the KeyError if a non-existent key is accessed in the dictionary.\n",
        "\n",
        "Error messages: Each exception handler prints a specific message indicating what went wrong."
      ],
      "metadata": {
        "id": "UqyJ5HhWW_SV"
      }
    },
    {
      "cell_type": "markdown",
      "source": [
        "20- How would you open a file and read its contents using a context manager in Python.\n",
        "\n",
        "In Python, you can open and read a file using a context manager with the with statement. A context manager automatically handles the opening and closing of the file, ensuring that the file is closed when the block of code inside the with statement is executed, even if an exception occurs.\n",
        "\n",
        "Here's how you can open a file and read its contents using a context manager:"
      ],
      "metadata": {
        "id": "e5kyrNz3XAsP"
      }
    },
    {
      "cell_type": "code",
      "source": [
        "# Open and read the contents of a file using a context manager\n",
        "file_path = \"example.txt\"  # Specify the file path\n",
        "\n",
        "with open(file_path, \"r\") as file:\n",
        "    content = file.read()  # Read the entire file content into a string\n",
        "    print(content)  # Print the content of the file\n"
      ],
      "metadata": {
        "colab": {
          "base_uri": "https://localhost:8080/"
        },
        "id": "vxlNbbgWXWEM",
        "outputId": "b85b2368-c91e-44e6-ff0a-b377eff1ec90"
      },
      "execution_count": 33,
      "outputs": [
        {
          "output_type": "stream",
          "name": "stdout",
          "text": [
            "Hello, world!\n",
            "This is an additional line.\n"
          ]
        }
      ]
    },
    {
      "cell_type": "markdown",
      "source": [
        "Explanation:\n",
        "\n",
        "with open(file_path, \"r\") as file::\n",
        "\n",
        "This line uses the with statement to open the file specified by file_path in read mode (\"r\"). The file is automatically closed when the block of code inside the with statement is executed.\n",
        "\n",
        "file is a file object that you can use to interact with the opened file.\n",
        "\n",
        "content = file.read():\n",
        "\n",
        "This reads the entire content of the file into the content variable as a string.\n",
        "\n",
        "print(content):\n",
        "\n",
        "This prints the content of the file to the console."
      ],
      "metadata": {
        "id": "NmoKUUxyXZzC"
      }
    },
    {
      "cell_type": "markdown",
      "source": [
        "21-Write a Python program that reads a file and prints the number of occurrences of a specific word."
      ],
      "metadata": {
        "id": "ZFTTMD6bXdLO"
      }
    },
    {
      "cell_type": "code",
      "source": [
        "def count_word_occurrences(file_path, word_to_search):\n",
        "    try:\n",
        "        # Open the file in read mode\n",
        "        with open(file_path, \"r\") as file:\n",
        "            # Initialize a counter for word occurrences\n",
        "            word_count = 0\n",
        "\n",
        "            # Read the file line by line\n",
        "            for line in file:\n",
        "                # Split the line into words and count occurrences of the specific word\n",
        "                word_count += line.lower().split().count(word_to_search.lower())\n",
        "\n",
        "        print(f\"The word '{word_to_search}' occurred {word_count} times in the file.\")\n",
        "\n",
        "    except FileNotFoundError:\n",
        "        print(f\"Error: The file '{file_path}' does not exist.\")\n",
        "    except Exception as e:\n",
        "        print(f\"An error occurred: {e}\")\n",
        "\n",
        "# Example usage\n",
        "file_path = \"example.txt\"  # Replace with the path to your file\n",
        "word_to_search = \"python\"  # Replace with the word you want to search\n",
        "count_word_occurrences(file_path, word_to_search)\n"
      ],
      "metadata": {
        "colab": {
          "base_uri": "https://localhost:8080/"
        },
        "id": "M-YLyNa4XrY6",
        "outputId": "3bf2aa48-5900-4a3d-f329-fe303623f635"
      },
      "execution_count": 34,
      "outputs": [
        {
          "output_type": "stream",
          "name": "stdout",
          "text": [
            "The word 'python' occurred 0 times in the file.\n"
          ]
        }
      ]
    },
    {
      "cell_type": "markdown",
      "source": [
        "Explanation:\n",
        "\n",
        "with open(file_path, \"r\"): This opens the file in read mode. Using a with statement ensures the file is properly closed after reading.\n",
        "\n",
        "line.lower().split(): This splits each line into words. The lower() function is used to make the search case-insensitive.\n",
        "\n",
        "count(word_to_search.lower()): This counts how many times word_to_search appears in the list of words from the line.\n",
        "\n",
        "Error handling: If the file doesn’t exist, a FileNotFoundError is raised. Any other exceptions are caught by the generic except block.\n",
        "\n",
        "word_count: This keeps track of the total occurrences of the word across all lines in the file."
      ],
      "metadata": {
        "id": "0f3awp5jXzGv"
      }
    },
    {
      "cell_type": "markdown",
      "source": [
        "22- How can you check if a file is empty before attempting to read its contents?\n",
        "\n",
        "To check if a file is empty before attempting to read its contents in Python, you can use the os.stat() function to check the file size, or simply try opening the file and check if the file is empty by reading it. If the file is empty, you can handle it accordingly (e.g., by printing a message or skipping the read operation).\n",
        "\n",
        "Here's how you can do it:\n",
        "\n",
        "Method 1: Using os.stat() to Check File Size\n",
        "You can use os.stat() to get the file's metadata, including the file size. If the size is zero, the file is empty.\n",
        "\n"
      ],
      "metadata": {
        "id": "UI9aiLDIX4c-"
      }
    },
    {
      "cell_type": "code",
      "source": [
        "import os\n",
        "\n",
        "def check_file_empty(file_path):\n",
        "    # Check if the file exists and if it's empty\n",
        "    if os.path.exists(file_path):\n",
        "        file_size = os.stat(file_path).st_size\n",
        "        if file_size == 0:\n",
        "            print(\"The file is empty.\")\n",
        "        else:\n",
        "            print(\"The file is not empty.\")\n",
        "    else:\n",
        "        print(f\"The file '{file_path}' does not exist.\")\n",
        "\n",
        "# Example usage\n",
        "file_path = \"example.txt\"  # Replace with the path to your file\n",
        "check_file_empty(file_path)\n"
      ],
      "metadata": {
        "colab": {
          "base_uri": "https://localhost:8080/"
        },
        "id": "nm3iM_ONYEQi",
        "outputId": "c19a0da4-ae6e-4152-e208-f76ad20a1d0d"
      },
      "execution_count": 35,
      "outputs": [
        {
          "output_type": "stream",
          "name": "stdout",
          "text": [
            "The file is not empty.\n"
          ]
        }
      ]
    },
    {
      "cell_type": "markdown",
      "source": [
        "Explanation:\n",
        "\n",
        "os.path.exists(file_path): Checks if the file exists.\n",
        "\n",
        "os.stat(file_path).st_size: Retrieves the size of the file in bytes.\n",
        "\n",
        "if file_size == 0: If the size is 0, the file is empty.\n",
        "\n",
        "Method 2: Try Reading the File (Handling Empty File)\n",
        "Another way is to try reading the file and checking if it’s empty after attempting to read it. You can handle this gracefully using a context manager and the read() method.\n",
        "\n"
      ],
      "metadata": {
        "id": "sy0YQimwYIgj"
      }
    },
    {
      "cell_type": "code",
      "source": [
        "def read_file_if_not_empty(file_path):\n",
        "    try:\n",
        "        with open(file_path, 'r') as file:\n",
        "            content = file.read().strip()  # Read and remove any extra whitespace\n",
        "            if not content:\n",
        "                print(\"The file is empty.\")\n",
        "            else:\n",
        "                print(\"The file is not empty. File contents:\")\n",
        "                print(content)\n",
        "    except FileNotFoundError:\n",
        "        print(f\"The file '{file_path}' does not exist.\")\n",
        "    except Exception as e:\n",
        "        print(f\"An error occurred: {e}\")\n",
        "\n",
        "# Example usage\n",
        "file_path = \"example.txt\"  # Replace with the path to your file\n",
        "read_file_if_not_empty(file_path)\n"
      ],
      "metadata": {
        "colab": {
          "base_uri": "https://localhost:8080/"
        },
        "id": "NeuPywFlYNfq",
        "outputId": "dc4a9775-ecc2-49b9-cb9d-e60fc0a00cf8"
      },
      "execution_count": 36,
      "outputs": [
        {
          "output_type": "stream",
          "name": "stdout",
          "text": [
            "The file is not empty. File contents:\n",
            "Hello, world!\n",
            "This is an additional line.\n"
          ]
        }
      ]
    },
    {
      "cell_type": "markdown",
      "source": [
        "Explanation:\n",
        "\n",
        "file.read().strip(): Reads the entire content of the file and removes leading/trailing whitespace (including newlines). If the content is empty after stripping, the file is considered empty.\n",
        "\n",
        "if not content: If the file content is empty, it prints that the file is empty.\n",
        "\n",
        "Error handling: If the file does not exist or any other error occurs, it will be caught and printed."
      ],
      "metadata": {
        "id": "8jZCZI3cYR-t"
      }
    },
    {
      "cell_type": "markdown",
      "source": [],
      "metadata": {
        "id": "pKDoCjodYIaR"
      }
    },
    {
      "cell_type": "markdown",
      "source": [
        "23-Write a Python program that writes to a log file when an error occurs during file handling."
      ],
      "metadata": {
        "id": "cUdEtikZYULS"
      }
    },
    {
      "cell_type": "code",
      "source": [
        "import logging\n",
        "\n",
        "# Configure logging\n",
        "logging.basicConfig(\n",
        "    filename='file_operations.log',  # Log file name\n",
        "    level=logging.ERROR,  # Log only ERROR level messages and above\n",
        "    format='%(asctime)s - %(levelname)s - %(message)s'  # Log message format\n",
        ")\n",
        "\n",
        "def handle_file_operations(file_path):\n",
        "    try:\n",
        "        # Example of file handling: Trying to open and write to a file\n",
        "        with open(file_path, 'w') as file:\n",
        "            file.write(\"This is a test file.\\n\")\n",
        "            print(\"File written successfully.\")\n",
        "    except Exception as e:\n",
        "        # Log the error message to the log file\n",
        "        logging.error(f\"Error occurred while handling file {file_path}: {e}\")\n",
        "        print(f\"An error occurred. Check the log file for details.\")\n",
        "\n",
        "# Example usage\n",
        "file_path = \"non_existent_folder/example.txt\"  # Change this to a non-existent path to test\n",
        "handle_file_operations(file_path)\n"
      ],
      "metadata": {
        "colab": {
          "base_uri": "https://localhost:8080/"
        },
        "id": "YlOvdeAlYfj2",
        "outputId": "dc5f7de1-6de2-4c4a-d81c-74f6ad0c0620"
      },
      "execution_count": 37,
      "outputs": [
        {
          "output_type": "stream",
          "name": "stderr",
          "text": [
            "ERROR:root:Error occurred while handling file non_existent_folder/example.txt: [Errno 2] No such file or directory: 'non_existent_folder/example.txt'\n"
          ]
        },
        {
          "output_type": "stream",
          "name": "stdout",
          "text": [
            "An error occurred. Check the log file for details.\n"
          ]
        }
      ]
    },
    {
      "cell_type": "markdown",
      "source": [
        "Explanation:\n",
        "\n",
        "Logging Configuration:\n",
        "\n",
        "filename='file_operations.log': Specifies the name of the log file where errors will be recorded.\n",
        "\n",
        "level=logging.ERROR: This ensures that only ERROR and higher level messages are logged. You can change this to logging.INFO or logging.DEBUG if you want to log other levels of messages.\n",
        "\n",
        "format='%(asctime)s - %(levelname)s - %(message)s': Specifies the format of the log messages, which includes the timestamp, the log level, and the actual message.\n",
        "\n",
        "File Handling:\n",
        "\n",
        "The with open(file_path, 'w') as file statement attempts to open and write to the file. If there is an error (such as a nonexistent directory), it will raise an exception.\n",
        "\n",
        "Error Handling:\n",
        "\n",
        "The except Exception as e block catches any exception that occurs during file handling and logs it using logging.error(). The error message contains the exception description (e).\n",
        "\n",
        "Example Usage:\n",
        "\n",
        "You can change file_path to a valid or invalid path to see how the error handling works. In this example, the path non_existent_folder/example.txt is used to trigger a file-related error (e.g., the folder doesn’t exist)."
      ],
      "metadata": {
        "id": "46T3LcSmYmmu"
      }
    }
  ]
}